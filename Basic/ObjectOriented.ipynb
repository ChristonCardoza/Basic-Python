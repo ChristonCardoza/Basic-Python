{
 "cells": [
  {
   "cell_type": "markdown",
   "metadata": {},
   "source": [
    "# Inheritance\n"
   ]
  },
  {
   "cell_type": "code",
   "execution_count": 59,
   "metadata": {},
   "outputs": [
    {
     "name": "stdout",
     "output_type": "stream",
     "text": [
      "The Parent class name is Christon Cardoza\n",
      "The Parent class area is 12.566370614359172 \n",
      "-+-+-+-+-+-+-+-+-+-+-+-+-+-+-+-+-+-+-+-+-+-+-+-+-+-+-+-+-+-+-+-+-+-+-+-+\n",
      "The Child class name is ChristonCardoza@rsa.com \n",
      "78.53981633974483\n",
      "The Parent class area is 50 \n"
     ]
    }
   ],
   "source": [
    "import math\n",
    "\n",
    "if __name__ == '__main__':\n",
    "    main()\n",
    "     \n",
    "    \n",
    "class Parent:\n",
    "    \n",
    "    def __init__(self,fname,lname):\n",
    "        self.fname = fname\n",
    "        self.lname = lname\n",
    "\n",
    "    def method(self,r):\n",
    "        self.r = r\n",
    "        self.area = r ** 2 * math.pi\n",
    "        return self.area\n",
    "\n",
    "class Child(Parent):\n",
    "\n",
    "    def __init__(self,fname,lname):\n",
    "        super().__init__(fname,lname)\n",
    "        self.email = self.fname + self.lname + '@rsa.com'\n",
    "\n",
    "\n",
    "    def method(self,r):\n",
    "        a = super().method(r)\n",
    "        print(a)\n",
    "        self.r = r\n",
    "        self.b = 10\n",
    "        self.area = r * self.b\n",
    "\n",
    "\n",
    "\n",
    "\n",
    "def main():\n",
    "    \n",
    "        parent = Parent(\"Christon\",\"Cardoza\")\n",
    "        print(\"The Parent class name is {} \" \"{}\".format(parent.fname,parent.lname))\n",
    "        parent.method(2)\n",
    "        print(\"The Parent class area is {} \" .format(parent.area))\n",
    "\n",
    "        print(\"-+-+-+-+-+-+-+-+-+-+-+-+-+-+-+-+-+-+-+-+-+-+-+-+-+-+-+-+-+-+-+-+-+-+-+-+\")\n",
    "\n",
    "        child = Child(\"Christon\",\"Cardoza\")\n",
    "        print(\"The Child class name is {} \" .format(child.email))\n",
    "        child.method(5)\n",
    "        print(\"The Parent class area is {} \" .format(child.area))\n",
    "\n",
    "        \n",
    "\n"
   ]
  },
  {
   "cell_type": "code",
   "execution_count": null,
   "metadata": {},
   "outputs": [],
   "source": []
  }
 ],
 "metadata": {
  "kernelspec": {
   "display_name": "Python 3",
   "language": "python",
   "name": "python3"
  },
  "language_info": {
   "codemirror_mode": {
    "name": "ipython",
    "version": 3
   },
   "file_extension": ".py",
   "mimetype": "text/x-python",
   "name": "python",
   "nbconvert_exporter": "python",
   "pygments_lexer": "ipython3",
   "version": "3.6.5"
  }
 },
 "nbformat": 4,
 "nbformat_minor": 2
}
