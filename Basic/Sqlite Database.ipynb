{
 "cells": [
  {
   "cell_type": "markdown",
   "metadata": {},
   "source": [
    "# Data Base Creation"
   ]
  },
  {
   "cell_type": "code",
   "execution_count": 2,
   "metadata": {},
   "outputs": [],
   "source": [
    "import sqlite3\n",
    "conn = sqlite3.connect('Tutorial.db')\n",
    "c = conn.cursor()"
   ]
  },
  {
   "cell_type": "markdown",
   "metadata": {},
   "source": [
    "# Table Creation"
   ]
  },
  {
   "cell_type": "code",
   "execution_count": 3,
   "metadata": {},
   "outputs": [
    {
     "ename": "OperationalError",
     "evalue": "table example already exists",
     "output_type": "error",
     "traceback": [
      "\u001b[1;31m---------------------------------------------------------------------------\u001b[0m",
      "\u001b[1;31mOperationalError\u001b[0m                          Traceback (most recent call last)",
      "\u001b[1;32m<ipython-input-3-b8a91edae93c>\u001b[0m in \u001b[0;36m<module>\u001b[1;34m()\u001b[0m\n\u001b[1;32m----> 1\u001b[1;33m \u001b[0mc\u001b[0m\u001b[1;33m.\u001b[0m\u001b[0mexecute\u001b[0m\u001b[1;33m(\u001b[0m\u001b[1;34m\"CREATE TABLE example(Language VARCHAR, Version REAL, Skill TEXT)\"\u001b[0m\u001b[1;33m)\u001b[0m\u001b[1;33m\u001b[0m\u001b[0m\n\u001b[0m",
      "\u001b[1;31mOperationalError\u001b[0m: table example already exists"
     ]
    }
   ],
   "source": [
    "c.execute(\"CREATE TABLE example(Language VARCHAR, Version REAL, Skill TEXT)\")"
   ]
  },
  {
   "cell_type": "markdown",
   "metadata": {},
   "source": [
    "# Enter The Data"
   ]
  },
  {
   "cell_type": "code",
   "execution_count": 4,
   "metadata": {},
   "outputs": [],
   "source": [
    "c.execute(\"INSERT INTO example VALUES('Python',2.1,'Beginner')\")\n",
    "conn.commit()"
   ]
  },
  {
   "cell_type": "markdown",
   "metadata": {},
   "source": [
    "# Dynamic Data Entry"
   ]
  },
  {
   "cell_type": "code",
   "execution_count": 5,
   "metadata": {},
   "outputs": [
    {
     "name": "stdout",
     "output_type": "stream",
     "text": [
      "What Language?Advance Python\n",
      "What Version?3.7\n",
      "What Skill?expert\n"
     ]
    }
   ],
   "source": [
    "lang = input(\"What Language?\")\n",
    "version = input(\"What Version?\")\n",
    "skill = input(\"What Skill?\")\n",
    "\n",
    "c.execute(\"INSERT INTO example(Language,Version,Skill) VALUES(?,?,?)\",(lang,version,skill))\n",
    "conn.commit()"
   ]
  },
  {
   "cell_type": "markdown",
   "metadata": {},
   "source": [
    "# Reading"
   ]
  },
  {
   "cell_type": "code",
   "execution_count": null,
   "metadata": {},
   "outputs": [],
   "source": [
    "print(\"Data in Database\")    \n",
    "sql = \"SELECT * FROM example \"\n",
    "\n",
    "for row in c.execute(sql):\n",
    "    print(row)    \n",
    "\n",
    "print(50*'*')\n",
    "\n",
    "what_skill =input(\"what skill level are you looking for?\")\n",
    "what_language =input(\"what language are you looking for?\")\n",
    "\n",
    "sql = \"SELECT * FROM example WHERE Skill=? AND Language=? \"\n",
    "\n",
    "for row in c.execute(sql,[(what_skill),(what_language)]):\n",
    "    print(row)"
   ]
  },
  {
   "cell_type": "markdown",
   "metadata": {},
   "source": [
    "# Limit"
   ]
  },
  {
   "cell_type": "code",
   "execution_count": 6,
   "metadata": {},
   "outputs": [
    {
     "name": "stdout",
     "output_type": "stream",
     "text": [
      "('Python', 2.7, 'Beginer')\n",
      "('Python', 2.1, 'Beginner')\n"
     ]
    }
   ],
   "source": [
    "sql = \"SELECT * FROM example LIMIT 2 \"\n",
    "for row in c.execute(sql):\n",
    "    print(row)"
   ]
  },
  {
   "cell_type": "markdown",
   "metadata": {},
   "source": [
    "# Update"
   ]
  },
  {
   "cell_type": "code",
   "execution_count": 10,
   "metadata": {},
   "outputs": [
    {
     "name": "stdout",
     "output_type": "stream",
     "text": [
      "Data in Database\n",
      "('Python', 2.7, 'Beginer')\n",
      "('Python', 2.1, 'Beginner')\n",
      "('Advance Python', 3.7, 'expert')\n",
      "**************************************************\n",
      "('Python', 2.7, 'Good')\n",
      "('Python', 2.1, 'Beginner')\n",
      "('Advance Python', 3.7, 'expert')\n"
     ]
    }
   ],
   "source": [
    "print(\"Data in Database\")    \n",
    "sql = \"SELECT * FROM example \"\n",
    "\n",
    "for row in c.execute(sql):\n",
    "    print(row)\n",
    "    \n",
    "sql = \"UPDATE example SET Skill = 'Good' WHERE Skill = 'Beginer'\"\n",
    "c.execute(sql)\n",
    "conn.commit()\n",
    "\n",
    "print(50*'*')\n",
    "\n",
    "sql = \"SELECT * FROM example \"\n",
    "\n",
    "for row in c.execute(sql):\n",
    "    print(row)"
   ]
  },
  {
   "cell_type": "markdown",
   "metadata": {},
   "source": [
    "# Delete"
   ]
  },
  {
   "cell_type": "code",
   "execution_count": 11,
   "metadata": {},
   "outputs": [
    {
     "name": "stdout",
     "output_type": "stream",
     "text": [
      "Data in Database\n",
      "('Python', 2.7, 'Good')\n",
      "('Python', 2.1, 'Beginner')\n",
      "('Advance Python', 3.7, 'expert')\n",
      "**************************************************\n",
      "('Python', 2.7, 'Good')\n",
      "('Advance Python', 3.7, 'expert')\n"
     ]
    }
   ],
   "source": [
    "print(\"Data in Database\")    \n",
    "sql = \"SELECT * FROM example \"\n",
    "\n",
    "for row in c.execute(sql):\n",
    "    print(row)\n",
    "\n",
    "sql = \"DELETE FROM example  WHERE Skill = 'Beginner'\"\n",
    "c.execute(sql)\n",
    "conn.commit() \n",
    "\n",
    "print(50*'*')\n",
    "\n",
    "sql = \"SELECT * FROM example \"\n",
    "\n",
    "for row in c.execute(sql):\n",
    "    print(row)"
   ]
  },
  {
   "cell_type": "code",
   "execution_count": null,
   "metadata": {},
   "outputs": [],
   "source": []
  }
 ],
 "metadata": {
  "kernelspec": {
   "display_name": "Python 3",
   "language": "python",
   "name": "python3"
  },
  "language_info": {
   "codemirror_mode": {
    "name": "ipython",
    "version": 3
   },
   "file_extension": ".py",
   "mimetype": "text/x-python",
   "name": "python",
   "nbconvert_exporter": "python",
   "pygments_lexer": "ipython3",
   "version": "3.6.5"
  }
 },
 "nbformat": 4,
 "nbformat_minor": 2
}
