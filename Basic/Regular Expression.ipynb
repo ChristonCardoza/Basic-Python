{
 "cells": [
  {
   "cell_type": "code",
   "execution_count": 6,
   "metadata": {},
   "outputs": [
    {
     "name": "stdout",
     "output_type": "stream",
     "text": [
      "{'Christon': '22', 'Flyacid': '23', 'Derick': '24', 'Brian': '25'}\n"
     ]
    }
   ],
   "source": [
    "import re\n",
    "\n",
    "NameSpace = '''\n",
    "Christon is 22 and Flyacid is 23\n",
    "Derick is 24 and Brian is 25\n",
    "'''\n",
    "\n",
    "Ages = re.findall(r'\\d{1,3}', NameSpace)\n",
    "Names = re.findall(r'[A-Z][a-z]*', NameSpace)\n",
    "                   \n",
    "ageDict = {}\n",
    "x = 0\n",
    "                   \n",
    "for eachname in Names:\n",
    "        ageDict[eachname] = Ages[x]\n",
    "        x+=1\n",
    "                   \n",
    "print(ageDict)        \n",
    "                   "
   ]
  },
  {
   "cell_type": "code",
   "execution_count": 7,
   "metadata": {},
   "outputs": [
    {
     "name": "stdout",
     "output_type": "stream",
     "text": [
      "There is inform\n"
     ]
    }
   ],
   "source": [
    "import re\n",
    "\n",
    "if re.search(\"inform\", \"we need to inform him with the latest information\"):\n",
    "    print(\"There is inform\")"
   ]
  },
  {
   "cell_type": "code",
   "execution_count": 8,
   "metadata": {},
   "outputs": [
    {
     "name": "stdout",
     "output_type": "stream",
     "text": [
      "inform\n",
      "inform\n"
     ]
    }
   ],
   "source": [
    "import re\n",
    "\n",
    "get = re.findall(\"inform\", \"we need to inform him with the latest information\")\n",
    "    \n",
    "for i in get:\n",
    "    print(i)\n",
    "    "
   ]
  },
  {
   "cell_type": "markdown",
   "metadata": {},
   "source": [
    "# Get the Starting And Ending Index Of The Particular sring"
   ]
  },
  {
   "cell_type": "code",
   "execution_count": 9,
   "metadata": {},
   "outputs": [
    {
     "name": "stdout",
     "output_type": "stream",
     "text": [
      "(11, 17)\n",
      "(38, 44)\n"
     ]
    }
   ],
   "source": [
    "str = \"we need to inform him with the latest information \"\n",
    "\n",
    "for i in re.finditer(\"inform\",str):\n",
    "    locTuple = i.span()\n",
    "    print(locTuple)"
   ]
  },
  {
   "cell_type": "markdown",
   "metadata": {},
   "source": [
    "# Match The Word With Particular Pattern"
   ]
  },
  {
   "cell_type": "code",
   "execution_count": 14,
   "metadata": {},
   "outputs": [
    {
     "name": "stdout",
     "output_type": "stream",
     "text": [
      "Sat\n",
      "hat\n",
      "mat\n",
      "pat\n"
     ]
    }
   ],
   "source": [
    "import re\n",
    "\n",
    "str = \"Sat, hat,mat,pat\"\n",
    "\n",
    "allstr = re.findall(\"[Shmp]at\",str)\n",
    "                     \n",
    "for i in allstr:\n",
    "   print(i)                  "
   ]
  },
  {
   "cell_type": "markdown",
   "metadata": {},
   "source": [
    "# Match Series Of Range Of Charecters"
   ]
  },
  {
   "cell_type": "code",
   "execution_count": 15,
   "metadata": {},
   "outputs": [
    {
     "name": "stdout",
     "output_type": "stream",
     "text": [
      "hat\n",
      "mat\n",
      "pat\n"
     ]
    }
   ],
   "source": [
    "import re\n",
    "\n",
    "str = \"Sat, hat,mat,pat\"\n",
    "\n",
    "allstr = re.findall(\"[h-p]at\",str)\n",
    "                     \n",
    "for i in allstr:\n",
    "   print(i)    "
   ]
  },
  {
   "cell_type": "markdown",
   "metadata": {},
   "source": [
    "# Match Series Of Inverse Range Of Charecters"
   ]
  },
  {
   "cell_type": "code",
   "execution_count": 16,
   "metadata": {},
   "outputs": [
    {
     "name": "stdout",
     "output_type": "stream",
     "text": [
      "sat\n",
      "pat\n"
     ]
    }
   ],
   "source": [
    "import re\n",
    "\n",
    "str = \"sat, hat,mat,pat\"\n",
    "\n",
    "allstr = re.findall(\"[^h-m]at\",str)\n",
    "                     \n",
    "for i in allstr:\n",
    "   print(i)    "
   ]
  },
  {
   "cell_type": "markdown",
   "metadata": {},
   "source": [
    "# Replace a String"
   ]
  },
  {
   "cell_type": "code",
   "execution_count": 19,
   "metadata": {},
   "outputs": [
    {
     "name": "stdout",
     "output_type": "stream",
     "text": [
      "sat, hat,mat,food\n"
     ]
    }
   ],
   "source": [
    "import re\n",
    "\n",
    "str = \"sat, hat,mat,rat\"\n",
    "regex = re.compile(\"[r]at\")\n",
    "str = regex.sub(\"food\",str)\n",
    "print(str)"
   ]
  },
  {
   "cell_type": "markdown",
   "metadata": {},
   "source": [
    "# BackSlash Problem"
   ]
  },
  {
   "cell_type": "code",
   "execution_count": 21,
   "metadata": {},
   "outputs": [
    {
     "name": "stdout",
     "output_type": "stream",
     "text": [
      "here is \\drogba\n",
      "<_sre.SRE_Match object; span=(8, 15), match='\\\\drogba'>\n"
     ]
    }
   ],
   "source": [
    "import re\n",
    "\n",
    "randstr = \"here is \\\\drogba\"\n",
    "print(randstr)\n",
    "\n",
    "print(re.search(r\"\\\\drogba\",randstr))"
   ]
  },
  {
   "cell_type": "markdown",
   "metadata": {},
   "source": [
    "# Woking With Whight spaces"
   ]
  },
  {
   "cell_type": "code",
   "execution_count": 22,
   "metadata": {},
   "outputs": [
    {
     "name": "stdout",
     "output_type": "stream",
     "text": [
      "\n",
      "keep the blue flag\n",
      "flying high\n",
      "chelsea\n",
      "\n",
      " keep the blue flag flying high chelsea \n"
     ]
    }
   ],
   "source": [
    "import re\n",
    "    \n",
    "randstr = '''\n",
    "keep the blue flag\n",
    "flying high\n",
    "chelsea\n",
    "'''\n",
    "\n",
    "print(randstr)\n",
    "regex = re.compile(\"\\n\")\n",
    "randstr = regex.sub(\" \",randstr)\n",
    "print(randstr)\n"
   ]
  },
  {
   "cell_type": "markdown",
   "metadata": {},
   "source": [
    "# Match Single Charecter"
   ]
  },
  {
   "cell_type": "code",
   "execution_count": 24,
   "metadata": {},
   "outputs": [
    {
     "name": "stdout",
     "output_type": "stream",
     "text": [
      "Matches: 25\n",
      "Matches: 3\n",
      "Matches: ['12345', '123456', '1234567']\n",
      "Matches: 3\n"
     ]
    }
   ],
   "source": [
    "import re\n",
    "\n",
    "num  = \"123 1234 12345 123456 1234567\"\n",
    "print(\"Matches:\",len(re.findall(\"\\d\",num)))\n",
    "print(\"Matches:\",len(re.findall(\"\\d{5}\",num)))\n",
    "print(\"Matches:\",re.findall(\"\\d{5,7}\",num))\n",
    "print(\"Matches:\",len(re.findall(\"\\d{5,7}\",num)))"
   ]
  },
  {
   "cell_type": "markdown",
   "metadata": {},
   "source": [
    "# Problem Statement"
   ]
  },
  {
   "cell_type": "markdown",
   "metadata": {},
   "source": [
    "# 1) All phone number should have:\n",
    "    . 3 starting digit and '-' sign\n",
    "    . 3 middle digit and '-' sign\n",
    "    . 4  digit in the end"
   ]
  },
  {
   "cell_type": "code",
   "execution_count": 31,
   "metadata": {},
   "outputs": [
    {
     "name": "stdout",
     "output_type": "stream",
     "text": [
      "it is a phone number\n"
     ]
    }
   ],
   "source": [
    "import re\n",
    "\n",
    "# \\w [a-zA-Z0-9_]\n",
    "# \\W [^a-zA-Z0-9_]\n",
    "# \\s [\\f\\n\\r\\t\\v]\n",
    "# \\S [^\\f\\n\\r\\t\\v]\n",
    "\n",
    "phn = \"412-555-1212\"\n",
    "\n",
    "if re.search(\"\\w{3}-\\w{3}-\\w{4}\",phn):\n",
    "    print(\"it is a phone number\")\n",
    "else:\n",
    "    print(\"it is a NOT phone number\")  "
   ]
  },
  {
   "cell_type": "markdown",
   "metadata": {},
   "source": [
    "# 2)E-mail adress should include:\n",
    "    . 1 to 20 lowercase and uppercase letter, number, plus ._%+-\n",
    "    . any @ symbol\n",
    "    . 2 to 20 lowercase and uppercase letter, number, plus .-\n",
    "    . a period\n",
    "    . 2 to 3 lowecase letter"
   ]
  },
  {
   "cell_type": "code",
   "execution_count": 34,
   "metadata": {},
   "outputs": [
    {
     "name": "stdout",
     "output_type": "stream",
     "text": [
      "EmailMatches: ['sk@aol.com']\n"
     ]
    }
   ],
   "source": [
    "import re\n",
    "email = '''sk@aol.com \n",
    "            md@.com\n",
    "            @seo.com\n",
    "            dec@.com\n",
    "            '''\n",
    "print(\"EmailMatches:\",re.findall(\"[\\w._%+-]{1,20}@[\\w.-]{2,20}.[A-za-z]{2,3}\",email))"
   ]
  },
  {
   "cell_type": "markdown",
   "metadata": {},
   "source": [
    "# 3) WEB Scraping"
   ]
  },
  {
   "cell_type": "code",
   "execution_count": 38,
   "metadata": {},
   "outputs": [
    {
     "name": "stdout",
     "output_type": "stream",
     "text": [
      "(257) 563-7401\n",
      "(372) 587-2335\n",
      "(786) 713-8616\n",
      "(793) 151-6230\n",
      "(492) 709-6392\n",
      "(654) 393-5734\n",
      "(404) 960-3807\n",
      "(314) 244-6306\n",
      "(947) 278-5929\n",
      "(684) 579-1879\n",
      "(389) 737-2852\n",
      "(660) 663-4518\n",
      "(608) 265-2215\n",
      "(959) 119-8364\n",
      "(468) 353-2641\n",
      "(248) 675-4007\n",
      "(939) 353-1107\n",
      "(570) 873-7090\n",
      "(302) 259-2375\n",
      "(717) 450-4729\n",
      "(453) 391-4650\n",
      "(559) 104-5475\n",
      "(387) 142-9434\n",
      "(516) 745-4496\n",
      "(326) 677-3419\n",
      "(746) 679-2470\n",
      "(455) 430-0989\n",
      "(490) 936-4694\n",
      "(985) 834-8285\n",
      "(662) 661-1446\n",
      "(802) 668-8240\n",
      "(477) 768-9247\n",
      "(791) 239-9057\n",
      "(832) 109-0213\n",
      "(837) 196-3274\n",
      "(268) 442-2428\n",
      "(850) 676-5117\n",
      "(861) 546-5032\n",
      "(176) 805-4108\n",
      "(715) 912-6931\n",
      "(993) 554-0563\n",
      "(357) 616-5411\n",
      "(121) 347-0086\n",
      "(304) 506-6314\n",
      "(425) 288-2332\n",
      "(145) 987-4962\n",
      "(187) 582-9707\n",
      "(750) 558-3965\n",
      "(492) 467-3131\n",
      "(774) 914-2510\n",
      "(888) 106-8550\n",
      "(539) 567-3573\n",
      "(693) 337-2849\n",
      "(545) 604-9386\n",
      "(221) 156-5026\n",
      "(414) 876-0865\n",
      "(932) 726-8645\n",
      "(726) 710-9826\n",
      "(622) 594-1662\n",
      "(948) 600-8503\n",
      "(605) 900-7508\n",
      "(716) 977-5775\n",
      "(368) 239-8275\n",
      "(725) 342-0650\n",
      "(711) 993-5187\n",
      "(882) 399-5084\n",
      "(287) 755-9948\n",
      "(659) 551-3389\n",
      "(275) 730-6868\n",
      "(725) 757-4047\n",
      "(314) 882-1496\n",
      "(639) 360-7590\n",
      "(168) 222-1592\n",
      "(896) 303-1164\n",
      "(203) 982-6130\n",
      "(906) 217-1470\n",
      "(614) 514-1269\n",
      "(763) 409-5446\n",
      "(836) 292-5324\n",
      "(926) 709-3295\n",
      "(963) 356-9268\n",
      "(736) 522-8584\n",
      "(410) 483-0352\n",
      "(252) 204-1434\n",
      "(874) 886-4174\n",
      "(581) 379-7573\n",
      "(983) 632-8597\n",
      "(295) 983-3476\n",
      "(873) 392-8802\n",
      "(360) 669-3923\n",
      "(840) 987-9449\n",
      "(422) 517-6053\n",
      "(126) 940-2753\n",
      "(427) 930-5255\n",
      "(689) 721-5145\n",
      "(676) 334-2174\n",
      "(437) 994-5270\n",
      "(564) 908-6970\n",
      "(577) 333-6244\n",
      "(655) 840-6139\n"
     ]
    }
   ],
   "source": [
    "import urllib.request\n",
    "import re\n",
    "\n",
    "url = \"https://www.summet.com/dmsi/html/codesamples/addresses.html\"\n",
    "response = urllib.request.urlopen(url)\n",
    "html = response.read()\n",
    "htmlstr = html.decode()\n",
    "pdata = re.findall(\"\\(\\d{3}\\) \\d{3}-\\d{4}\",htmlstr)\n",
    "\n",
    "for item in pdata:\n",
    "    print(item)"
   ]
  },
  {
   "cell_type": "code",
   "execution_count": null,
   "metadata": {},
   "outputs": [],
   "source": []
  }
 ],
 "metadata": {
  "kernelspec": {
   "display_name": "Python 3",
   "language": "python",
   "name": "python3"
  },
  "language_info": {
   "codemirror_mode": {
    "name": "ipython",
    "version": 3
   },
   "file_extension": ".py",
   "mimetype": "text/x-python",
   "name": "python",
   "nbconvert_exporter": "python",
   "pygments_lexer": "ipython3",
   "version": "3.6.5"
  }
 },
 "nbformat": 4,
 "nbformat_minor": 2
}
