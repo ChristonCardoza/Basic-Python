{
 "cells": [
  {
   "cell_type": "markdown",
   "metadata": {},
   "source": [
    "# Parsing XML with DOM APIs"
   ]
  },
  {
   "cell_type": "markdown",
   "metadata": {},
   "source": [
    "The Document Object Model (\"DOM\") is a cross-language API from the World Wide Web Consortium (W3C) for accessing and modifying XML documents.\n",
    "\n",
    "The DOM is extremely useful for random-access applications. SAX only allows you a view of one bit of the document at a time. If you are looking at one SAX element, you have no access to another.\n",
    "\n",
    "Here is the easiest way to quickly load an XML document and to create a minidom object using the xml.dom module. The minidom object provides a simple parser method that quickly creates a DOM tree from the XML file.\n",
    "\n",
    "The sample phrase calls the parse( file [,parser] ) function of the minidom object to parse the XML file designated by file into a DOM tree object."
   ]
  },
  {
   "cell_type": "code",
   "execution_count": 2,
   "metadata": {},
   "outputs": [
    {
     "name": "stdout",
     "output_type": "stream",
     "text": [
      "Root element : New Arrivals\n",
      "*****Movie*****\n",
      "Title: Enemy Behind\n",
      "Type: War, Thriller\n",
      "Format: DVD\n",
      "Rating: PG\n",
      "Description: Talk about a US-Japan war\n",
      "*****Movie*****\n",
      "Title: Transformers\n",
      "Type: Anime, Science Fiction\n",
      "Format: DVD\n",
      "Rating: R\n",
      "Description: A schientific fiction\n",
      "*****Movie*****\n",
      "Title: Trigun\n",
      "Type: Anime, Action\n",
      "Format: DVD\n",
      "Rating: PG\n",
      "Description: Vash the Stampede!\n",
      "*****Movie*****\n",
      "Title: Ishtar\n",
      "Type: Comedy\n",
      "Format: VHS\n",
      "Rating: PG\n",
      "Description: Viewable boredom\n"
     ]
    }
   ],
   "source": [
    "#!/usr/bin/python\n",
    "\n",
    "from xml.dom.minidom import parse\n",
    "import xml.dom.minidom\n",
    "\n",
    "# Open XML document using minidom parser\n",
    "DOMTree = xml.dom.minidom.parse(\"movies.xml\")\n",
    "collection = DOMTree.documentElement\n",
    "if collection.hasAttribute(\"shelf\"):\n",
    "   print (\"Root element : %s\" % collection.getAttribute(\"shelf\"))\n",
    "\n",
    "# Get all the movies in the collection\n",
    "movies = collection.getElementsByTagName(\"movie\")\n",
    "\n",
    "# Print detail of each movie.\n",
    "for movie in movies:\n",
    "   print(\"*****Movie*****\" )\n",
    "   if movie.hasAttribute(\"title\"):\n",
    "      print (\"Title: %s\" % movie.getAttribute(\"title\"))\n",
    "\n",
    "   type = movie.getElementsByTagName('type')[0]\n",
    "   print (\"Type: %s\" % type.childNodes[0].data)\n",
    "   format = movie.getElementsByTagName('format')[0]\n",
    "   print (\"Format: %s\" % format.childNodes[0].data)\n",
    "   rating = movie.getElementsByTagName('rating')[0]\n",
    "   print (\"Rating: %s\" % rating.childNodes[0].data) \n",
    "   description = movie.getElementsByTagName('description')[0]\n",
    "   print (\"Description: %s\" % description.childNodes[0].data)"
   ]
  },
  {
   "cell_type": "code",
   "execution_count": 4,
   "metadata": {},
   "outputs": [
    {
     "name": "stdout",
     "output_type": "stream",
     "text": [
      "<DOM Element: collection at 0x1ff97db5a60>\n"
     ]
    }
   ],
   "source": [
    "from xml.dom.minidom import parse\n",
    "import xml.dom.minidom\n",
    "\n",
    "domtree = xml.dom.minidom.parse('movies.xml')\n",
    "collection = domtree.documentElement\n",
    "print(collection)"
   ]
  },
  {
   "cell_type": "code",
   "execution_count": 9,
   "metadata": {},
   "outputs": [
    {
     "name": "stdout",
     "output_type": "stream",
     "text": [
      "Root Element:New Arrivals\n"
     ]
    }
   ],
   "source": [
    "if collection.hasAttribute(\"shelf\"):\n",
    "    print(\"Root Element:%s\"%collection.getAttribute(\"shelf\"))"
   ]
  },
  {
   "cell_type": "code",
   "execution_count": 11,
   "metadata": {},
   "outputs": [
    {
     "name": "stdout",
     "output_type": "stream",
     "text": [
      "[<DOM Element: movie at 0x1ff97db5af8>, <DOM Element: movie at 0x1ff97db5f20>, <DOM Element: movie at 0x1ff97dbe3d8>, <DOM Element: movie at 0x1ff97dbe800>]\n"
     ]
    }
   ],
   "source": [
    "movies = collection.getElementsByTagName(\"movie\")\n",
    "print(movies)"
   ]
  },
  {
   "cell_type": "code",
   "execution_count": 15,
   "metadata": {},
   "outputs": [
    {
     "name": "stdout",
     "output_type": "stream",
     "text": [
      "*****Movie*****\n",
      "Title: Enemy Behind\n",
      "Type: War, Thriller\n",
      "Format: DVD\n",
      "Rating: PG\n",
      "Description: Talk about a US-Japan war\n",
      "*****Movie*****\n",
      "Title: Transformers\n",
      "Type: Anime, Science Fiction\n",
      "Format: DVD\n",
      "Rating: R\n",
      "Description: A schientific fiction\n",
      "*****Movie*****\n",
      "Title: Trigun\n",
      "Type: Anime, Action\n",
      "Format: DVD\n",
      "Rating: PG\n",
      "Description: Vash the Stampede!\n",
      "*****Movie*****\n",
      "Title: Ishtar\n",
      "Type: Comedy\n",
      "Format: VHS\n",
      "Rating: PG\n",
      "Description: Viewable boredom\n"
     ]
    }
   ],
   "source": [
    "for movie in movies:\n",
    "   print(\"*****Movie*****\" )\n",
    "   if movie.hasAttribute(\"title\"):\n",
    "      print (\"Title: %s\" % movie.getAttribute(\"title\"))\n",
    "\n",
    "   type = movie.getElementsByTagName('type')[0]\n",
    "   print (\"Type: %s\" % type.childNodes[0].data)\n",
    "   format = movie.getElementsByTagName('format')[0]\n",
    "   print (\"Format: %s\" % format.childNodes[0].data)\n",
    "   rating = movie.getElementsByTagName('rating')[0]\n",
    "   print (\"Rating: %s\" % rating.childNodes[0].data) \n",
    "   description = movie.getElementsByTagName('description')[0]\n",
    "   print (\"Description: %s\" % description.childNodes[0].data)"
   ]
  },
  {
   "cell_type": "code",
   "execution_count": 13,
   "metadata": {},
   "outputs": [
    {
     "name": "stdout",
     "output_type": "stream",
     "text": [
      "Root Element is: New Arrivals\n"
     ]
    }
   ],
   "source": [
    "from xml.dom import minidom\n",
    "\n",
    "xmldoc = minidom.parse(\"movies.xml\")\n",
    "collection = xmldoc.getElementsByTagName(\"collection\")[0]\n",
    "#print(collection)\n",
    "print(\"Root Element is: %s\"%collection.getAttribute(\"shelf\"))\n",
    "movies = collection.getElementsByTagName(\"movie\")\n",
    "#print(movies)\n",
    "\n",
    "for movie in movies:"
   ]
  },
  {
   "cell_type": "code",
   "execution_count": null,
   "metadata": {},
   "outputs": [],
   "source": []
  }
 ],
 "metadata": {
  "kernelspec": {
   "display_name": "Python 3",
   "language": "python",
   "name": "python3"
  },
  "language_info": {
   "codemirror_mode": {
    "name": "ipython",
    "version": 3
   },
   "file_extension": ".py",
   "mimetype": "text/x-python",
   "name": "python",
   "nbconvert_exporter": "python",
   "pygments_lexer": "ipython3",
   "version": "3.6.5"
  }
 },
 "nbformat": 4,
 "nbformat_minor": 2
}
