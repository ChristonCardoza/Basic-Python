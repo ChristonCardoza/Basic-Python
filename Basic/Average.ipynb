{
 "cells": [
  {
   "cell_type": "code",
   "execution_count": 31,
   "metadata": {},
   "outputs": [
    {
     "name": "stdout",
     "output_type": "stream",
     "text": [
      "The random fist list is [34, 10, 33, 98, 47] \n",
      " and Second is [13, 39, 63, 48, 89]\n",
      "Average of first list is 44.4\n",
      "Average of second list is 50.4\n",
      "Averages of 2 list is [44.4, 50.4]\n",
      "Final Average 47.4\n"
     ]
    }
   ],
   "source": [
    "import random\n",
    "import functools\n",
    "l1  = []\n",
    "l2  = []\n",
    "l3  = []\n",
    "for i in range(5):\n",
    "    l1.append(random.randint(1,100))\n",
    "    l2.append(random.randint(1,100))\n",
    "print(\"The random fist list is {} \\n and Second is {}\".format(l1,l2))\n",
    "\n",
    "sum1 = functools.reduce(lambda x,y:x+y,l1)\n",
    "av1 = sum1/len(l1)\n",
    "print(\"Average of first list is {}\".format(av1))\n",
    "l3.append(av1)\n",
    "\n",
    "sum2 = functools.reduce(lambda x,y:x+y,l2)\n",
    "av2 = sum2/len(l2)\n",
    "print(\"Average of second list is {}\".format(av2))\n",
    "l3.append(av2)\n",
    "\n",
    "print(\"Averages of 2 list is {}\".format(l3))\n",
    "\n",
    "average = functools.reduce(lambda x,y:x+y,l3)\n",
    "print(\"Final Average {}\".format(average/len(l3)))\n",
    "\n",
    "\n",
    "\n",
    "\n"
   ]
  },
  {
   "cell_type": "code",
   "execution_count": null,
   "metadata": {},
   "outputs": [],
   "source": []
  },
  {
   "cell_type": "code",
   "execution_count": null,
   "metadata": {},
   "outputs": [],
   "source": []
  }
 ],
 "metadata": {
  "kernelspec": {
   "display_name": "Python 3",
   "language": "python",
   "name": "python3"
  },
  "language_info": {
   "codemirror_mode": {
    "name": "ipython",
    "version": 3
   },
   "file_extension": ".py",
   "mimetype": "text/x-python",
   "name": "python",
   "nbconvert_exporter": "python",
   "pygments_lexer": "ipython3",
   "version": "3.6.5"
  }
 },
 "nbformat": 4,
 "nbformat_minor": 2
}
